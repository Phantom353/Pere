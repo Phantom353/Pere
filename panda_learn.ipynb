{
 "cells": [
  {
   "cell_type": "code",
   "execution_count": 6,
   "id": "bc0ea9de-4ba1-4281-80af-505d57d7ebc0",
   "metadata": {},
   "outputs": [],
   "source": [
    "import pandas as pd\n",
    "from datetime import datetime as dt\n",
    "\n",
    "file_path = \"/storage/emulated/0/Download/ETH_1h.csv/ETH_1h.csv\"\n",
    "\n",
    "df = pd.read_csv(file_path, parse_dates = [\"Date\"] , date_format = \"%Y-%m-%d %I-%p\")"
   ]
  },
  {
   "cell_type": "code",
   "execution_count": 16,
   "id": "05fbbc53-c11a-46a5-8073-2049169b83e1",
   "metadata": {},
   "outputs": [
    {
     "data": {
      "text/plain": [
       "'Friday'"
      ]
     },
     "execution_count": 16,
     "metadata": {},
     "output_type": "execute_result"
    }
   ],
   "source": [
    "df.loc[0 ,\"Date\"].day_name()"
   ]
  },
  {
   "cell_type": "code",
   "execution_count": null,
   "id": "53b02983-9450-43c1-92f7-d4a0029833de",
   "metadata": {},
   "outputs": [],
   "source": [
    "print(dt.now())"
   ]
  },
  {
   "cell_type": "code",
   "execution_count": null,
   "id": "b81c9ebf-94f8-4cf6-b8f9-9f17c4f614d7",
   "metadata": {},
   "outputs": [],
   "source": [
    "df[\"Date\"] = pd.to_datetime(df[\"Date\"], format= '%Y-%m-%d %I-%p')"
   ]
  },
  {
   "cell_type": "code",
   "execution_count": null,
   "id": "f33173ab-30d5-41b8-af92-7ef69815694b",
   "metadata": {},
   "outputs": [],
   "source": [
    "df[\"Date\"]"
   ]
  },
  {
   "cell_type": "code",
   "execution_count": null,
   "id": "9fb3284f-de0f-45d9-95c8-eedfe34978aa",
   "metadata": {},
   "outputs": [],
   "source": [
    "df.replace(\"2020-03-13 08-PM\",\"2025-04-14 08-PM\")\n"
   ]
  },
  {
   "cell_type": "code",
   "execution_count": null,
   "id": "d99ca1ff-2a58-4db5-bf6d-c3c3eb1d378b",
   "metadata": {},
   "outputs": [],
   "source": [
    "df[\"Date\"]"
   ]
  },
  {
   "cell_type": "code",
   "execution_count": 17,
   "id": "13cdbf6e-7ef4-429b-9aae-acfa4ddcaaf3",
   "metadata": {},
   "outputs": [
    {
     "data": {
      "text/html": [
       "<div>\n",
       "<style scoped>\n",
       "    .dataframe tbody tr th:only-of-type {\n",
       "        vertical-align: middle;\n",
       "    }\n",
       "\n",
       "    .dataframe tbody tr th {\n",
       "        vertical-align: top;\n",
       "    }\n",
       "\n",
       "    .dataframe thead th {\n",
       "        text-align: right;\n",
       "    }\n",
       "</style>\n",
       "<table border=\"1\" class=\"dataframe\">\n",
       "  <thead>\n",
       "    <tr style=\"text-align: right;\">\n",
       "      <th></th>\n",
       "      <th>Date</th>\n",
       "      <th>Symbol</th>\n",
       "      <th>Open</th>\n",
       "      <th>High</th>\n",
       "      <th>Low</th>\n",
       "      <th>Close</th>\n",
       "      <th>Volume</th>\n",
       "    </tr>\n",
       "  </thead>\n",
       "  <tbody>\n",
       "    <tr>\n",
       "      <th>0</th>\n",
       "      <td>2020-03-13 20:00:00</td>\n",
       "      <td>ETHUSD</td>\n",
       "      <td>129.94</td>\n",
       "      <td>131.82</td>\n",
       "      <td>126.87</td>\n",
       "      <td>128.71</td>\n",
       "      <td>1940673.93</td>\n",
       "    </tr>\n",
       "    <tr>\n",
       "      <th>1</th>\n",
       "      <td>2020-03-13 19:00:00</td>\n",
       "      <td>ETHUSD</td>\n",
       "      <td>119.51</td>\n",
       "      <td>132.02</td>\n",
       "      <td>117.10</td>\n",
       "      <td>129.94</td>\n",
       "      <td>7579741.09</td>\n",
       "    </tr>\n",
       "    <tr>\n",
       "      <th>2</th>\n",
       "      <td>2020-03-13 18:00:00</td>\n",
       "      <td>ETHUSD</td>\n",
       "      <td>124.47</td>\n",
       "      <td>124.85</td>\n",
       "      <td>115.50</td>\n",
       "      <td>119.51</td>\n",
       "      <td>4898735.81</td>\n",
       "    </tr>\n",
       "    <tr>\n",
       "      <th>3</th>\n",
       "      <td>2020-03-13 17:00:00</td>\n",
       "      <td>ETHUSD</td>\n",
       "      <td>124.08</td>\n",
       "      <td>127.42</td>\n",
       "      <td>121.63</td>\n",
       "      <td>124.47</td>\n",
       "      <td>2753450.92</td>\n",
       "    </tr>\n",
       "    <tr>\n",
       "      <th>4</th>\n",
       "      <td>2020-03-13 16:00:00</td>\n",
       "      <td>ETHUSD</td>\n",
       "      <td>124.85</td>\n",
       "      <td>129.51</td>\n",
       "      <td>120.17</td>\n",
       "      <td>124.08</td>\n",
       "      <td>4461424.71</td>\n",
       "    </tr>\n",
       "  </tbody>\n",
       "</table>\n",
       "</div>"
      ],
      "text/plain": [
       "                 Date  Symbol    Open    High     Low   Close      Volume\n",
       "0 2020-03-13 20:00:00  ETHUSD  129.94  131.82  126.87  128.71  1940673.93\n",
       "1 2020-03-13 19:00:00  ETHUSD  119.51  132.02  117.10  129.94  7579741.09\n",
       "2 2020-03-13 18:00:00  ETHUSD  124.47  124.85  115.50  119.51  4898735.81\n",
       "3 2020-03-13 17:00:00  ETHUSD  124.08  127.42  121.63  124.47  2753450.92\n",
       "4 2020-03-13 16:00:00  ETHUSD  124.85  129.51  120.17  124.08  4461424.71"
      ]
     },
     "execution_count": 17,
     "metadata": {},
     "output_type": "execute_result"
    }
   ],
   "source": [
    "df.head()"
   ]
  },
  {
   "cell_type": "code",
   "execution_count": 20,
   "id": "0c2c7cf0-c26c-4bbb-9742-6e71254f5c07",
   "metadata": {},
   "outputs": [],
   "source": [
    "df[\"DaysOfWeek\"] = df[\"Date\"].dt.day_name()"
   ]
  },
  {
   "cell_type": "code",
   "execution_count": 21,
   "id": "d2bb096a-b5d5-4219-b92b-2833e1337d52",
   "metadata": {},
   "outputs": [
    {
     "data": {
      "text/html": [
       "<div>\n",
       "<style scoped>\n",
       "    .dataframe tbody tr th:only-of-type {\n",
       "        vertical-align: middle;\n",
       "    }\n",
       "\n",
       "    .dataframe tbody tr th {\n",
       "        vertical-align: top;\n",
       "    }\n",
       "\n",
       "    .dataframe thead th {\n",
       "        text-align: right;\n",
       "    }\n",
       "</style>\n",
       "<table border=\"1\" class=\"dataframe\">\n",
       "  <thead>\n",
       "    <tr style=\"text-align: right;\">\n",
       "      <th></th>\n",
       "      <th>Date</th>\n",
       "      <th>Symbol</th>\n",
       "      <th>Open</th>\n",
       "      <th>High</th>\n",
       "      <th>Low</th>\n",
       "      <th>Close</th>\n",
       "      <th>Volume</th>\n",
       "      <th>DaysOfWeek</th>\n",
       "    </tr>\n",
       "  </thead>\n",
       "  <tbody>\n",
       "    <tr>\n",
       "      <th>0</th>\n",
       "      <td>2020-03-13 20:00:00</td>\n",
       "      <td>ETHUSD</td>\n",
       "      <td>129.94</td>\n",
       "      <td>131.82</td>\n",
       "      <td>126.87</td>\n",
       "      <td>128.71</td>\n",
       "      <td>1940673.93</td>\n",
       "      <td>Friday</td>\n",
       "    </tr>\n",
       "    <tr>\n",
       "      <th>1</th>\n",
       "      <td>2020-03-13 19:00:00</td>\n",
       "      <td>ETHUSD</td>\n",
       "      <td>119.51</td>\n",
       "      <td>132.02</td>\n",
       "      <td>117.10</td>\n",
       "      <td>129.94</td>\n",
       "      <td>7579741.09</td>\n",
       "      <td>Friday</td>\n",
       "    </tr>\n",
       "    <tr>\n",
       "      <th>2</th>\n",
       "      <td>2020-03-13 18:00:00</td>\n",
       "      <td>ETHUSD</td>\n",
       "      <td>124.47</td>\n",
       "      <td>124.85</td>\n",
       "      <td>115.50</td>\n",
       "      <td>119.51</td>\n",
       "      <td>4898735.81</td>\n",
       "      <td>Friday</td>\n",
       "    </tr>\n",
       "    <tr>\n",
       "      <th>3</th>\n",
       "      <td>2020-03-13 17:00:00</td>\n",
       "      <td>ETHUSD</td>\n",
       "      <td>124.08</td>\n",
       "      <td>127.42</td>\n",
       "      <td>121.63</td>\n",
       "      <td>124.47</td>\n",
       "      <td>2753450.92</td>\n",
       "      <td>Friday</td>\n",
       "    </tr>\n",
       "    <tr>\n",
       "      <th>4</th>\n",
       "      <td>2020-03-13 16:00:00</td>\n",
       "      <td>ETHUSD</td>\n",
       "      <td>124.85</td>\n",
       "      <td>129.51</td>\n",
       "      <td>120.17</td>\n",
       "      <td>124.08</td>\n",
       "      <td>4461424.71</td>\n",
       "      <td>Friday</td>\n",
       "    </tr>\n",
       "  </tbody>\n",
       "</table>\n",
       "</div>"
      ],
      "text/plain": [
       "                 Date  Symbol    Open    High     Low   Close      Volume  \\\n",
       "0 2020-03-13 20:00:00  ETHUSD  129.94  131.82  126.87  128.71  1940673.93   \n",
       "1 2020-03-13 19:00:00  ETHUSD  119.51  132.02  117.10  129.94  7579741.09   \n",
       "2 2020-03-13 18:00:00  ETHUSD  124.47  124.85  115.50  119.51  4898735.81   \n",
       "3 2020-03-13 17:00:00  ETHUSD  124.08  127.42  121.63  124.47  2753450.92   \n",
       "4 2020-03-13 16:00:00  ETHUSD  124.85  129.51  120.17  124.08  4461424.71   \n",
       "\n",
       "  DaysOfWeek  \n",
       "0     Friday  \n",
       "1     Friday  \n",
       "2     Friday  \n",
       "3     Friday  \n",
       "4     Friday  "
      ]
     },
     "execution_count": 21,
     "metadata": {},
     "output_type": "execute_result"
    }
   ],
   "source": [
    "df.head()"
   ]
  },
  {
   "cell_type": "code",
   "execution_count": 32,
   "id": "76f3b53b-6cd1-4130-967b-01fbd4274e71",
   "metadata": {},
   "outputs": [
    {
     "data": {
      "text/plain": [
       "DaysOfWeek\n",
       "False    20293\n",
       "True      3381\n",
       "Name: count, dtype: int64"
      ]
     },
     "execution_count": 32,
     "metadata": {},
     "output_type": "execute_result"
    }
   ],
   "source": [
    "(df[\"DaysOfWeek\"] == \"Friday\").value_counts()"
   ]
  },
  {
   "cell_type": "code",
   "execution_count": 24,
   "id": "5d4309c9-445b-4df5-9e07-518ff339987e",
   "metadata": {},
   "outputs": [
    {
     "data": {
      "text/plain": [
       "(23674, 8)"
      ]
     },
     "execution_count": 24,
     "metadata": {},
     "output_type": "execute_result"
    }
   ],
   "source": [
    "df.shape"
   ]
  },
  {
   "cell_type": "code",
   "execution_count": 34,
   "id": "87624d5a-5626-4e5b-92d2-b3ce0a7a67a7",
   "metadata": {},
   "outputs": [
    {
     "data": {
      "text/plain": [
       "Timestamp('2017-07-01 11:00:00')"
      ]
     },
     "execution_count": 34,
     "metadata": {},
     "output_type": "execute_result"
    }
   ],
   "source": [
    "df[\"Date\"].min()"
   ]
  },
  {
   "cell_type": "code",
   "execution_count": 35,
   "id": "415f8183-53de-4186-96d2-d57b089db3aa",
   "metadata": {},
   "outputs": [
    {
     "data": {
      "text/plain": [
       "Timedelta('986 days 09:00:00')"
      ]
     },
     "execution_count": 35,
     "metadata": {},
     "output_type": "execute_result"
    }
   ],
   "source": [
    "df[\"Date\"].max() - df[\"Date\"].min()"
   ]
  },
  {
   "cell_type": "code",
   "execution_count": 41,
   "id": "010fe435-dcd0-49eb-a51a-319ab373788a",
   "metadata": {},
   "outputs": [
    {
     "data": {
      "text/html": [
       "<div>\n",
       "<style scoped>\n",
       "    .dataframe tbody tr th:only-of-type {\n",
       "        vertical-align: middle;\n",
       "    }\n",
       "\n",
       "    .dataframe tbody tr th {\n",
       "        vertical-align: top;\n",
       "    }\n",
       "\n",
       "    .dataframe thead th {\n",
       "        text-align: right;\n",
       "    }\n",
       "</style>\n",
       "<table border=\"1\" class=\"dataframe\">\n",
       "  <thead>\n",
       "    <tr style=\"text-align: right;\">\n",
       "      <th></th>\n",
       "      <th>Date</th>\n",
       "      <th>Symbol</th>\n",
       "      <th>Open</th>\n",
       "      <th>High</th>\n",
       "      <th>Low</th>\n",
       "      <th>Close</th>\n",
       "      <th>Volume</th>\n",
       "      <th>DaysOfWeek</th>\n",
       "    </tr>\n",
       "  </thead>\n",
       "  <tbody>\n",
       "    <tr>\n",
       "      <th>1749</th>\n",
       "      <td>2019-12-31 23:00:00</td>\n",
       "      <td>ETHUSD</td>\n",
       "      <td>128.33</td>\n",
       "      <td>128.69</td>\n",
       "      <td>128.14</td>\n",
       "      <td>128.54</td>\n",
       "      <td>440678.91</td>\n",
       "      <td>Tuesday</td>\n",
       "    </tr>\n",
       "    <tr>\n",
       "      <th>1750</th>\n",
       "      <td>2019-12-31 22:00:00</td>\n",
       "      <td>ETHUSD</td>\n",
       "      <td>128.38</td>\n",
       "      <td>128.69</td>\n",
       "      <td>127.95</td>\n",
       "      <td>128.33</td>\n",
       "      <td>554646.02</td>\n",
       "      <td>Tuesday</td>\n",
       "    </tr>\n",
       "    <tr>\n",
       "      <th>1751</th>\n",
       "      <td>2019-12-31 21:00:00</td>\n",
       "      <td>ETHUSD</td>\n",
       "      <td>127.86</td>\n",
       "      <td>128.43</td>\n",
       "      <td>127.72</td>\n",
       "      <td>128.38</td>\n",
       "      <td>350155.69</td>\n",
       "      <td>Tuesday</td>\n",
       "    </tr>\n",
       "    <tr>\n",
       "      <th>1752</th>\n",
       "      <td>2019-12-31 20:00:00</td>\n",
       "      <td>ETHUSD</td>\n",
       "      <td>127.84</td>\n",
       "      <td>128.34</td>\n",
       "      <td>127.71</td>\n",
       "      <td>127.86</td>\n",
       "      <td>428183.38</td>\n",
       "      <td>Tuesday</td>\n",
       "    </tr>\n",
       "    <tr>\n",
       "      <th>1753</th>\n",
       "      <td>2019-12-31 19:00:00</td>\n",
       "      <td>ETHUSD</td>\n",
       "      <td>128.69</td>\n",
       "      <td>128.69</td>\n",
       "      <td>127.60</td>\n",
       "      <td>127.84</td>\n",
       "      <td>1169847.84</td>\n",
       "      <td>Tuesday</td>\n",
       "    </tr>\n",
       "    <tr>\n",
       "      <th>...</th>\n",
       "      <td>...</td>\n",
       "      <td>...</td>\n",
       "      <td>...</td>\n",
       "      <td>...</td>\n",
       "      <td>...</td>\n",
       "      <td>...</td>\n",
       "      <td>...</td>\n",
       "      <td>...</td>\n",
       "    </tr>\n",
       "    <tr>\n",
       "      <th>10504</th>\n",
       "      <td>2019-01-01 04:00:00</td>\n",
       "      <td>ETHUSD</td>\n",
       "      <td>130.75</td>\n",
       "      <td>133.96</td>\n",
       "      <td>130.74</td>\n",
       "      <td>131.96</td>\n",
       "      <td>2791135.37</td>\n",
       "      <td>Tuesday</td>\n",
       "    </tr>\n",
       "    <tr>\n",
       "      <th>10505</th>\n",
       "      <td>2019-01-01 03:00:00</td>\n",
       "      <td>ETHUSD</td>\n",
       "      <td>130.06</td>\n",
       "      <td>130.79</td>\n",
       "      <td>130.06</td>\n",
       "      <td>130.75</td>\n",
       "      <td>503732.63</td>\n",
       "      <td>Tuesday</td>\n",
       "    </tr>\n",
       "    <tr>\n",
       "      <th>10506</th>\n",
       "      <td>2019-01-01 02:00:00</td>\n",
       "      <td>ETHUSD</td>\n",
       "      <td>130.79</td>\n",
       "      <td>130.88</td>\n",
       "      <td>129.55</td>\n",
       "      <td>130.06</td>\n",
       "      <td>838183.43</td>\n",
       "      <td>Tuesday</td>\n",
       "    </tr>\n",
       "    <tr>\n",
       "      <th>10507</th>\n",
       "      <td>2019-01-01 01:00:00</td>\n",
       "      <td>ETHUSD</td>\n",
       "      <td>131.62</td>\n",
       "      <td>131.62</td>\n",
       "      <td>130.77</td>\n",
       "      <td>130.79</td>\n",
       "      <td>434917.99</td>\n",
       "      <td>Tuesday</td>\n",
       "    </tr>\n",
       "    <tr>\n",
       "      <th>10508</th>\n",
       "      <td>2019-01-01 00:00:00</td>\n",
       "      <td>ETHUSD</td>\n",
       "      <td>130.53</td>\n",
       "      <td>131.91</td>\n",
       "      <td>130.48</td>\n",
       "      <td>131.62</td>\n",
       "      <td>1067136.21</td>\n",
       "      <td>Tuesday</td>\n",
       "    </tr>\n",
       "  </tbody>\n",
       "</table>\n",
       "<p>8760 rows × 8 columns</p>\n",
       "</div>"
      ],
      "text/plain": [
       "                     Date  Symbol    Open    High     Low   Close      Volume  \\\n",
       "1749  2019-12-31 23:00:00  ETHUSD  128.33  128.69  128.14  128.54   440678.91   \n",
       "1750  2019-12-31 22:00:00  ETHUSD  128.38  128.69  127.95  128.33   554646.02   \n",
       "1751  2019-12-31 21:00:00  ETHUSD  127.86  128.43  127.72  128.38   350155.69   \n",
       "1752  2019-12-31 20:00:00  ETHUSD  127.84  128.34  127.71  127.86   428183.38   \n",
       "1753  2019-12-31 19:00:00  ETHUSD  128.69  128.69  127.60  127.84  1169847.84   \n",
       "...                   ...     ...     ...     ...     ...     ...         ...   \n",
       "10504 2019-01-01 04:00:00  ETHUSD  130.75  133.96  130.74  131.96  2791135.37   \n",
       "10505 2019-01-01 03:00:00  ETHUSD  130.06  130.79  130.06  130.75   503732.63   \n",
       "10506 2019-01-01 02:00:00  ETHUSD  130.79  130.88  129.55  130.06   838183.43   \n",
       "10507 2019-01-01 01:00:00  ETHUSD  131.62  131.62  130.77  130.79   434917.99   \n",
       "10508 2019-01-01 00:00:00  ETHUSD  130.53  131.91  130.48  131.62  1067136.21   \n",
       "\n",
       "      DaysOfWeek  \n",
       "1749     Tuesday  \n",
       "1750     Tuesday  \n",
       "1751     Tuesday  \n",
       "1752     Tuesday  \n",
       "1753     Tuesday  \n",
       "...          ...  \n",
       "10504    Tuesday  \n",
       "10505    Tuesday  \n",
       "10506    Tuesday  \n",
       "10507    Tuesday  \n",
       "10508    Tuesday  \n",
       "\n",
       "[8760 rows x 8 columns]"
      ]
     },
     "execution_count": 41,
     "metadata": {},
     "output_type": "execute_result"
    }
   ],
   "source": [
    "filt = (df[\"Date\"] >= \"2019\") & (df[\"Date\"] < \"2020\")\n",
    "df[filt]"
   ]
  },
  {
   "cell_type": "code",
   "execution_count": 42,
   "id": "98fb9507-9752-4f6b-a5fb-cd02ed4eca02",
   "metadata": {},
   "outputs": [
    {
     "data": {
      "text/html": [
       "<div>\n",
       "<style scoped>\n",
       "    .dataframe tbody tr th:only-of-type {\n",
       "        vertical-align: middle;\n",
       "    }\n",
       "\n",
       "    .dataframe tbody tr th {\n",
       "        vertical-align: top;\n",
       "    }\n",
       "\n",
       "    .dataframe thead th {\n",
       "        text-align: right;\n",
       "    }\n",
       "</style>\n",
       "<table border=\"1\" class=\"dataframe\">\n",
       "  <thead>\n",
       "    <tr style=\"text-align: right;\">\n",
       "      <th></th>\n",
       "      <th>Date</th>\n",
       "      <th>Symbol</th>\n",
       "      <th>Open</th>\n",
       "      <th>High</th>\n",
       "      <th>Low</th>\n",
       "      <th>Close</th>\n",
       "      <th>Volume</th>\n",
       "      <th>DaysOfWeek</th>\n",
       "    </tr>\n",
       "  </thead>\n",
       "  <tbody>\n",
       "    <tr>\n",
       "      <th>573</th>\n",
       "      <td>2020-02-18 23:00:00</td>\n",
       "      <td>ETHUSD</td>\n",
       "      <td>281.50</td>\n",
       "      <td>285.50</td>\n",
       "      <td>281.50</td>\n",
       "      <td>283.31</td>\n",
       "      <td>3173640.68</td>\n",
       "      <td>Tuesday</td>\n",
       "    </tr>\n",
       "    <tr>\n",
       "      <th>574</th>\n",
       "      <td>2020-02-18 22:00:00</td>\n",
       "      <td>ETHUSD</td>\n",
       "      <td>281.58</td>\n",
       "      <td>281.72</td>\n",
       "      <td>278.75</td>\n",
       "      <td>281.50</td>\n",
       "      <td>1169085.69</td>\n",
       "      <td>Tuesday</td>\n",
       "    </tr>\n",
       "    <tr>\n",
       "      <th>575</th>\n",
       "      <td>2020-02-18 21:00:00</td>\n",
       "      <td>ETHUSD</td>\n",
       "      <td>284.62</td>\n",
       "      <td>286.87</td>\n",
       "      <td>277.02</td>\n",
       "      <td>281.58</td>\n",
       "      <td>3925727.58</td>\n",
       "      <td>Tuesday</td>\n",
       "    </tr>\n",
       "    <tr>\n",
       "      <th>576</th>\n",
       "      <td>2020-02-18 20:00:00</td>\n",
       "      <td>ETHUSD</td>\n",
       "      <td>285.30</td>\n",
       "      <td>286.50</td>\n",
       "      <td>282.00</td>\n",
       "      <td>284.62</td>\n",
       "      <td>4098813.39</td>\n",
       "      <td>Tuesday</td>\n",
       "    </tr>\n",
       "    <tr>\n",
       "      <th>577</th>\n",
       "      <td>2020-02-18 19:00:00</td>\n",
       "      <td>ETHUSD</td>\n",
       "      <td>280.97</td>\n",
       "      <td>286.00</td>\n",
       "      <td>280.12</td>\n",
       "      <td>285.30</td>\n",
       "      <td>2257214.51</td>\n",
       "      <td>Tuesday</td>\n",
       "    </tr>\n",
       "    <tr>\n",
       "      <th>...</th>\n",
       "      <td>...</td>\n",
       "      <td>...</td>\n",
       "      <td>...</td>\n",
       "      <td>...</td>\n",
       "      <td>...</td>\n",
       "      <td>...</td>\n",
       "      <td>...</td>\n",
       "      <td>...</td>\n",
       "    </tr>\n",
       "    <tr>\n",
       "      <th>10408</th>\n",
       "      <td>2019-01-05 04:00:00</td>\n",
       "      <td>ETHUSD</td>\n",
       "      <td>158.94</td>\n",
       "      <td>159.77</td>\n",
       "      <td>158.40</td>\n",
       "      <td>158.41</td>\n",
       "      <td>1139439.22</td>\n",
       "      <td>Saturday</td>\n",
       "    </tr>\n",
       "    <tr>\n",
       "      <th>10409</th>\n",
       "      <td>2019-01-05 03:00:00</td>\n",
       "      <td>ETHUSD</td>\n",
       "      <td>158.78</td>\n",
       "      <td>159.50</td>\n",
       "      <td>157.77</td>\n",
       "      <td>158.94</td>\n",
       "      <td>923896.77</td>\n",
       "      <td>Saturday</td>\n",
       "    </tr>\n",
       "    <tr>\n",
       "      <th>10410</th>\n",
       "      <td>2019-01-05 02:00:00</td>\n",
       "      <td>ETHUSD</td>\n",
       "      <td>159.42</td>\n",
       "      <td>160.20</td>\n",
       "      <td>157.73</td>\n",
       "      <td>158.78</td>\n",
       "      <td>1979540.21</td>\n",
       "      <td>Saturday</td>\n",
       "    </tr>\n",
       "    <tr>\n",
       "      <th>10411</th>\n",
       "      <td>2019-01-05 01:00:00</td>\n",
       "      <td>ETHUSD</td>\n",
       "      <td>159.43</td>\n",
       "      <td>160.61</td>\n",
       "      <td>156.77</td>\n",
       "      <td>159.42</td>\n",
       "      <td>3541976.47</td>\n",
       "      <td>Saturday</td>\n",
       "    </tr>\n",
       "    <tr>\n",
       "      <th>10412</th>\n",
       "      <td>2019-01-05 00:00:00</td>\n",
       "      <td>ETHUSD</td>\n",
       "      <td>153.24</td>\n",
       "      <td>160.50</td>\n",
       "      <td>153.23</td>\n",
       "      <td>159.43</td>\n",
       "      <td>4907530.32</td>\n",
       "      <td>Saturday</td>\n",
       "    </tr>\n",
       "  </tbody>\n",
       "</table>\n",
       "<p>9840 rows × 8 columns</p>\n",
       "</div>"
      ],
      "text/plain": [
       "                     Date  Symbol    Open    High     Low   Close      Volume  \\\n",
       "573   2020-02-18 23:00:00  ETHUSD  281.50  285.50  281.50  283.31  3173640.68   \n",
       "574   2020-02-18 22:00:00  ETHUSD  281.58  281.72  278.75  281.50  1169085.69   \n",
       "575   2020-02-18 21:00:00  ETHUSD  284.62  286.87  277.02  281.58  3925727.58   \n",
       "576   2020-02-18 20:00:00  ETHUSD  285.30  286.50  282.00  284.62  4098813.39   \n",
       "577   2020-02-18 19:00:00  ETHUSD  280.97  286.00  280.12  285.30  2257214.51   \n",
       "...                   ...     ...     ...     ...     ...     ...         ...   \n",
       "10408 2019-01-05 04:00:00  ETHUSD  158.94  159.77  158.40  158.41  1139439.22   \n",
       "10409 2019-01-05 03:00:00  ETHUSD  158.78  159.50  157.77  158.94   923896.77   \n",
       "10410 2019-01-05 02:00:00  ETHUSD  159.42  160.20  157.73  158.78  1979540.21   \n",
       "10411 2019-01-05 01:00:00  ETHUSD  159.43  160.61  156.77  159.42  3541976.47   \n",
       "10412 2019-01-05 00:00:00  ETHUSD  153.24  160.50  153.23  159.43  4907530.32   \n",
       "\n",
       "      DaysOfWeek  \n",
       "573      Tuesday  \n",
       "574      Tuesday  \n",
       "575      Tuesday  \n",
       "576      Tuesday  \n",
       "577      Tuesday  \n",
       "...          ...  \n",
       "10408   Saturday  \n",
       "10409   Saturday  \n",
       "10410   Saturday  \n",
       "10411   Saturday  \n",
       "10412   Saturday  \n",
       "\n",
       "[9840 rows x 8 columns]"
      ]
     },
     "execution_count": 42,
     "metadata": {},
     "output_type": "execute_result"
    }
   ],
   "source": [
    "filt = (df[\"Date\"] >= pd.to_datetime(\"2019-01-05\")) & (df[\"Date\"] < pd.to_datetime(\"2020-02-19\"))\n",
    "df[filt]"
   ]
  },
  {
   "cell_type": "code",
   "execution_count": 43,
   "id": "d82ac4c9-f58e-44f6-a26c-7cf976405248",
   "metadata": {},
   "outputs": [
    {
     "data": {
      "text/plain": [
       "Timedelta('25568 days 00:00:00')"
      ]
     },
     "execution_count": 43,
     "metadata": {},
     "output_type": "execute_result"
    }
   ],
   "source": [
    "(pd.to_datetime('2089-12-3')) - (pd.to_datetime('2019-12-3'))"
   ]
  },
  {
   "cell_type": "code",
   "execution_count": 7,
   "id": "4938bb4e-fb25-42c7-b0fe-6f94e59f2967",
   "metadata": {},
   "outputs": [],
   "source": [
    "df.set_index(\"Date\" , inplace = True)"
   ]
  },
  {
   "cell_type": "code",
   "execution_count": 71,
   "id": "8b2e745b-b2d2-46f2-9dcf-7730bbeeae84",
   "metadata": {},
   "outputs": [
    {
     "data": {
      "text/html": [
       "<div>\n",
       "<style scoped>\n",
       "    .dataframe tbody tr th:only-of-type {\n",
       "        vertical-align: middle;\n",
       "    }\n",
       "\n",
       "    .dataframe tbody tr th {\n",
       "        vertical-align: top;\n",
       "    }\n",
       "\n",
       "    .dataframe thead th {\n",
       "        text-align: right;\n",
       "    }\n",
       "</style>\n",
       "<table border=\"1\" class=\"dataframe\">\n",
       "  <thead>\n",
       "    <tr style=\"text-align: right;\">\n",
       "      <th></th>\n",
       "      <th>Symbol</th>\n",
       "      <th>Open</th>\n",
       "      <th>High</th>\n",
       "      <th>Low</th>\n",
       "      <th>Close</th>\n",
       "      <th>Volume</th>\n",
       "      <th>DaysOfWeek</th>\n",
       "    </tr>\n",
       "    <tr>\n",
       "      <th>Date</th>\n",
       "      <th></th>\n",
       "      <th></th>\n",
       "      <th></th>\n",
       "      <th></th>\n",
       "      <th></th>\n",
       "      <th></th>\n",
       "      <th></th>\n",
       "    </tr>\n",
       "  </thead>\n",
       "  <tbody>\n",
       "    <tr>\n",
       "      <th>2019-03-01 00:00:00</th>\n",
       "      <td>ETHUSD</td>\n",
       "      <td>134.48</td>\n",
       "      <td>135.27</td>\n",
       "      <td>134.48</td>\n",
       "      <td>135.02</td>\n",
       "      <td>274651.02</td>\n",
       "      <td>Friday</td>\n",
       "    </tr>\n",
       "    <tr>\n",
       "      <th>2019-03-01 01:00:00</th>\n",
       "      <td>ETHUSD</td>\n",
       "      <td>135.02</td>\n",
       "      <td>135.06</td>\n",
       "      <td>134.75</td>\n",
       "      <td>135.01</td>\n",
       "      <td>245513.97</td>\n",
       "      <td>Friday</td>\n",
       "    </tr>\n",
       "    <tr>\n",
       "      <th>2019-03-01 02:00:00</th>\n",
       "      <td>ETHUSD</td>\n",
       "      <td>135.01</td>\n",
       "      <td>135.20</td>\n",
       "      <td>134.86</td>\n",
       "      <td>134.97</td>\n",
       "      <td>222565.71</td>\n",
       "      <td>Friday</td>\n",
       "    </tr>\n",
       "    <tr>\n",
       "      <th>2019-03-01 03:00:00</th>\n",
       "      <td>ETHUSD</td>\n",
       "      <td>134.97</td>\n",
       "      <td>135.79</td>\n",
       "      <td>134.90</td>\n",
       "      <td>135.59</td>\n",
       "      <td>292562.81</td>\n",
       "      <td>Friday</td>\n",
       "    </tr>\n",
       "    <tr>\n",
       "      <th>2019-03-01 04:00:00</th>\n",
       "      <td>ETHUSD</td>\n",
       "      <td>135.59</td>\n",
       "      <td>135.60</td>\n",
       "      <td>134.98</td>\n",
       "      <td>135.51</td>\n",
       "      <td>325128.14</td>\n",
       "      <td>Friday</td>\n",
       "    </tr>\n",
       "    <tr>\n",
       "      <th>...</th>\n",
       "      <td>...</td>\n",
       "      <td>...</td>\n",
       "      <td>...</td>\n",
       "      <td>...</td>\n",
       "      <td>...</td>\n",
       "      <td>...</td>\n",
       "      <td>...</td>\n",
       "    </tr>\n",
       "    <tr>\n",
       "      <th>2020-03-13 16:00:00</th>\n",
       "      <td>ETHUSD</td>\n",
       "      <td>124.85</td>\n",
       "      <td>129.51</td>\n",
       "      <td>120.17</td>\n",
       "      <td>124.08</td>\n",
       "      <td>4461424.71</td>\n",
       "      <td>Friday</td>\n",
       "    </tr>\n",
       "    <tr>\n",
       "      <th>2020-03-13 17:00:00</th>\n",
       "      <td>ETHUSD</td>\n",
       "      <td>124.08</td>\n",
       "      <td>127.42</td>\n",
       "      <td>121.63</td>\n",
       "      <td>124.47</td>\n",
       "      <td>2753450.92</td>\n",
       "      <td>Friday</td>\n",
       "    </tr>\n",
       "    <tr>\n",
       "      <th>2020-03-13 18:00:00</th>\n",
       "      <td>ETHUSD</td>\n",
       "      <td>124.47</td>\n",
       "      <td>124.85</td>\n",
       "      <td>115.50</td>\n",
       "      <td>119.51</td>\n",
       "      <td>4898735.81</td>\n",
       "      <td>Friday</td>\n",
       "    </tr>\n",
       "    <tr>\n",
       "      <th>2020-03-13 19:00:00</th>\n",
       "      <td>ETHUSD</td>\n",
       "      <td>119.51</td>\n",
       "      <td>132.02</td>\n",
       "      <td>117.10</td>\n",
       "      <td>129.94</td>\n",
       "      <td>7579741.09</td>\n",
       "      <td>Friday</td>\n",
       "    </tr>\n",
       "    <tr>\n",
       "      <th>2020-03-13 20:00:00</th>\n",
       "      <td>ETHUSD</td>\n",
       "      <td>129.94</td>\n",
       "      <td>131.82</td>\n",
       "      <td>126.87</td>\n",
       "      <td>128.71</td>\n",
       "      <td>1940673.93</td>\n",
       "      <td>Friday</td>\n",
       "    </tr>\n",
       "  </tbody>\n",
       "</table>\n",
       "<p>9093 rows × 7 columns</p>\n",
       "</div>"
      ],
      "text/plain": [
       "                     Symbol    Open    High     Low   Close      Volume  \\\n",
       "Date                                                                      \n",
       "2019-03-01 00:00:00  ETHUSD  134.48  135.27  134.48  135.02   274651.02   \n",
       "2019-03-01 01:00:00  ETHUSD  135.02  135.06  134.75  135.01   245513.97   \n",
       "2019-03-01 02:00:00  ETHUSD  135.01  135.20  134.86  134.97   222565.71   \n",
       "2019-03-01 03:00:00  ETHUSD  134.97  135.79  134.90  135.59   292562.81   \n",
       "2019-03-01 04:00:00  ETHUSD  135.59  135.60  134.98  135.51   325128.14   \n",
       "...                     ...     ...     ...     ...     ...         ...   \n",
       "2020-03-13 16:00:00  ETHUSD  124.85  129.51  120.17  124.08  4461424.71   \n",
       "2020-03-13 17:00:00  ETHUSD  124.08  127.42  121.63  124.47  2753450.92   \n",
       "2020-03-13 18:00:00  ETHUSD  124.47  124.85  115.50  119.51  4898735.81   \n",
       "2020-03-13 19:00:00  ETHUSD  119.51  132.02  117.10  129.94  7579741.09   \n",
       "2020-03-13 20:00:00  ETHUSD  129.94  131.82  126.87  128.71  1940673.93   \n",
       "\n",
       "                    DaysOfWeek  \n",
       "Date                            \n",
       "2019-03-01 00:00:00     Friday  \n",
       "2019-03-01 01:00:00     Friday  \n",
       "2019-03-01 02:00:00     Friday  \n",
       "2019-03-01 03:00:00     Friday  \n",
       "2019-03-01 04:00:00     Friday  \n",
       "...                        ...  \n",
       "2020-03-13 16:00:00     Friday  \n",
       "2020-03-13 17:00:00     Friday  \n",
       "2020-03-13 18:00:00     Friday  \n",
       "2020-03-13 19:00:00     Friday  \n",
       "2020-03-13 20:00:00     Friday  \n",
       "\n",
       "[9093 rows x 7 columns]"
      ]
     },
     "execution_count": 71,
     "metadata": {},
     "output_type": "execute_result"
    }
   ],
   "source": [
    "df.loc[\"2019-03\" : \"2020-04\"]"
   ]
  },
  {
   "cell_type": "code",
   "execution_count": 69,
   "id": "b619f688-fb02-49c1-9526-1efe5ea3f5d0",
   "metadata": {},
   "outputs": [
    {
     "data": {
      "text/plain": [
       "np.float64(192.51131419773452)"
      ]
     },
     "execution_count": 69,
     "metadata": {},
     "output_type": "execute_result"
    }
   ],
   "source": [
    "df.loc[\"2019-03\" : \"2020-04\"][\"Close\"].mean()"
   ]
  },
  {
   "cell_type": "code",
   "execution_count": 72,
   "id": "fcc58440-6a55-47a1-afed-132b1b48b023",
   "metadata": {},
   "outputs": [
    {
     "data": {
      "text/plain": [
       "np.float64(279.99)"
      ]
     },
     "execution_count": 72,
     "metadata": {},
     "output_type": "execute_result"
    }
   ],
   "source": [
    "df.head(24)[\"High\"].max()"
   ]
  },
  {
   "cell_type": "code",
   "execution_count": null,
   "id": "bb85f2a5-ddac-4aa0-bd3e-9c41ba2da41d",
   "metadata": {},
   "outputs": [],
   "source": [
    "df.head(24)"
   ]
  },
  {
   "cell_type": "code",
   "execution_count": 75,
   "id": "0ceed479-cb64-4c14-94cc-1870193d3331",
   "metadata": {},
   "outputs": [
    {
     "data": {
      "text/plain": [
       "np.float64(227.99)"
      ]
     },
     "execution_count": 75,
     "metadata": {},
     "output_type": "execute_result"
    }
   ],
   "source": [
    "df.loc[\"2020-03-01\"][\"High\"].max()"
   ]
  },
  {
   "cell_type": "code",
   "execution_count": 12,
   "id": "49e3bc45-769d-4c08-824b-243823f916f2",
   "metadata": {},
   "outputs": [
    {
     "data": {
      "image/png": "[encoded data removed]",
      "text/plain": [
       "<Figure size 640x480 with 1 Axes>"
      ]
     },
     "metadata": {},
     "output_type": "display_data"
    }
   ],
   "source": [
    "%matplotlib inline\n",
    "import matplotlib.pyplot as plt\n",
    "\n",
    "plt.plot([1,2,3,4], [10,20,25,30])\n",
    "plt.title(\"My First Plot\")\n",
    "plt.show()"
   ]
  },
  {
   "cell_type": "code",
   "execution_count": 21,
   "id": "dcd6d713-add6-4b72-b8fc-c3c518eee096",
   "metadata": {},
   "outputs": [
    {
     "data": {
      "text/plain": [
       "Date\n",
       "2020-01-01    132.68\n",
       "2020-01-02    130.19\n",
       "2020-01-03    134.93\n",
       "2020-01-04    135.75\n",
       "2020-01-05    138.97\n",
       "               ...  \n",
       "2020-03-09    208.65\n",
       "2020-03-10    206.28\n",
       "2020-03-11    202.98\n",
       "2020-03-12    195.64\n",
       "2020-03-13    148.00\n",
       "Freq: D, Name: High, Length: 73, dtype: float64"
      ]
     },
     "execution_count": 21,
     "metadata": {},
     "output_type": "execute_result"
    }
   ],
   "source": [
    "highs = df[\"High\"].resample(\"D\").max()\n",
    "highs[\"2020\"]\n"
   ]
  },
  {
   "cell_type": "code",
   "execution_count": 23,
   "id": "b63625c4-a93f-4402-9b00-a4d33677caee",
   "metadata": {},
   "outputs": [
    {
     "data": {
      "text/plain": [
       "<Axes: xlabel='Date'>"
      ]
     },
     "execution_count": 23,
     "metadata": {},
     "output_type": "execute_result"
    },
    {
     "data": {
      "image/png": "[encoded data removed]",
      "text/plain": [
       "<Figure size 640x480 with 1 Axes>"
      ]
     },
     "metadata": {},
     "output_type": "display_data"
    }
   ],
   "source": [
    "%matplotlib inline\n",
    "highs.plot(\n",
    "    \n",
    ")"
   ]
  },
  {
   "cell_type": "code",
   "execution_count": 30,
   "id": "ee4882df-c07d-4608-83d5-2b3a2d7b9adc",
   "metadata": {},
   "outputs": [
    {
     "data": {
      "text/html": [
       "<div>\n",
       "<style scoped>\n",
       "    .dataframe tbody tr th:only-of-type {\n",
       "        vertical-align: middle;\n",
       "    }\n",
       "\n",
       "    .dataframe tbody tr th {\n",
       "        vertical-align: top;\n",
       "    }\n",
       "\n",
       "    .dataframe thead th {\n",
       "        text-align: right;\n",
       "    }\n",
       "</style>\n",
       "<table border=\"1\" class=\"dataframe\">\n",
       "  <thead>\n",
       "    <tr style=\"text-align: right;\">\n",
       "      <th></th>\n",
       "      <th>Open</th>\n",
       "      <th>Close</th>\n",
       "      <th>High</th>\n",
       "      <th>Low</th>\n",
       "      <th>Volume</th>\n",
       "    </tr>\n",
       "    <tr>\n",
       "      <th>Date</th>\n",
       "      <th></th>\n",
       "      <th></th>\n",
       "      <th></th>\n",
       "      <th></th>\n",
       "      <th></th>\n",
       "    </tr>\n",
       "  </thead>\n",
       "  <tbody>\n",
       "    <tr>\n",
       "      <th>2017-07-02</th>\n",
       "      <td>268.066486</td>\n",
       "      <td>268.202162</td>\n",
       "      <td>293.73</td>\n",
       "      <td>253.23</td>\n",
       "      <td>8.084631e+07</td>\n",
       "    </tr>\n",
       "    <tr>\n",
       "      <th>2017-07-09</th>\n",
       "      <td>261.337024</td>\n",
       "      <td>261.062083</td>\n",
       "      <td>285.00</td>\n",
       "      <td>231.25</td>\n",
       "      <td>2.246746e+08</td>\n",
       "    </tr>\n",
       "    <tr>\n",
       "      <th>2017-07-16</th>\n",
       "      <td>196.193214</td>\n",
       "      <td>195.698393</td>\n",
       "      <td>240.33</td>\n",
       "      <td>130.26</td>\n",
       "      <td>5.017750e+08</td>\n",
       "    </tr>\n",
       "    <tr>\n",
       "      <th>2017-07-23</th>\n",
       "      <td>212.351429</td>\n",
       "      <td>212.783750</td>\n",
       "      <td>249.40</td>\n",
       "      <td>153.25</td>\n",
       "      <td>7.221637e+08</td>\n",
       "    </tr>\n",
       "    <tr>\n",
       "      <th>2017-07-30</th>\n",
       "      <td>203.496190</td>\n",
       "      <td>203.309524</td>\n",
       "      <td>229.99</td>\n",
       "      <td>178.03</td>\n",
       "      <td>2.657305e+08</td>\n",
       "    </tr>\n",
       "    <tr>\n",
       "      <th>...</th>\n",
       "      <td>...</td>\n",
       "      <td>...</td>\n",
       "      <td>...</td>\n",
       "      <td>...</td>\n",
       "      <td>...</td>\n",
       "    </tr>\n",
       "    <tr>\n",
       "      <th>2020-02-16</th>\n",
       "      <td>255.021667</td>\n",
       "      <td>255.198452</td>\n",
       "      <td>290.00</td>\n",
       "      <td>216.31</td>\n",
       "      <td>3.912867e+08</td>\n",
       "    </tr>\n",
       "    <tr>\n",
       "      <th>2020-02-23</th>\n",
       "      <td>265.220833</td>\n",
       "      <td>265.321905</td>\n",
       "      <td>287.13</td>\n",
       "      <td>242.36</td>\n",
       "      <td>3.067838e+08</td>\n",
       "    </tr>\n",
       "    <tr>\n",
       "      <th>2020-03-01</th>\n",
       "      <td>236.720536</td>\n",
       "      <td>236.373988</td>\n",
       "      <td>278.13</td>\n",
       "      <td>209.26</td>\n",
       "      <td>3.693920e+08</td>\n",
       "    </tr>\n",
       "    <tr>\n",
       "      <th>2020-03-08</th>\n",
       "      <td>229.923571</td>\n",
       "      <td>229.817619</td>\n",
       "      <td>253.01</td>\n",
       "      <td>196.00</td>\n",
       "      <td>2.736569e+08</td>\n",
       "    </tr>\n",
       "    <tr>\n",
       "      <th>2020-03-15</th>\n",
       "      <td>176.937521</td>\n",
       "      <td>176.332821</td>\n",
       "      <td>208.65</td>\n",
       "      <td>90.00</td>\n",
       "      <td>4.983998e+08</td>\n",
       "    </tr>\n",
       "  </tbody>\n",
       "</table>\n",
       "<p>142 rows × 5 columns</p>\n",
       "</div>"
      ],
      "text/plain": [
       "                  Open       Close    High     Low        Volume\n",
       "Date                                                            \n",
       "2017-07-02  268.066486  268.202162  293.73  253.23  8.084631e+07\n",
       "2017-07-09  261.337024  261.062083  285.00  231.25  2.246746e+08\n",
       "2017-07-16  196.193214  195.698393  240.33  130.26  5.017750e+08\n",
       "2017-07-23  212.351429  212.783750  249.40  153.25  7.221637e+08\n",
       "2017-07-30  203.496190  203.309524  229.99  178.03  2.657305e+08\n",
       "...                ...         ...     ...     ...           ...\n",
       "2020-02-16  255.021667  255.198452  290.00  216.31  3.912867e+08\n",
       "2020-02-23  265.220833  265.321905  287.13  242.36  3.067838e+08\n",
       "2020-03-01  236.720536  236.373988  278.13  209.26  3.693920e+08\n",
       "2020-03-08  229.923571  229.817619  253.01  196.00  2.736569e+08\n",
       "2020-03-15  176.937521  176.332821  208.65   90.00  4.983998e+08\n",
       "\n",
       "[142 rows x 5 columns]"
      ]
     },
     "execution_count": 30,
     "metadata": {},
     "output_type": "execute_result"
    }
   ],
   "source": [
    "df.resample('W').agg({\"Open\" : \"mean\" , \"Close\" : \"mean\", \"High\" : \"max\" , \"Low\" : \"min\", \"Volume\" : \"sum\"})"
   ]
  },
  {
   "cell_type": "code",
   "execution_count": 24,
   "id": "ab3957c7-67af-410a-9b5e-89a64d8cf080",
   "metadata": {},
   "outputs": [
    {
     "data": {
      "text/html": [
       "<div>\n",
       "<style scoped>\n",
       "    .dataframe tbody tr th:only-of-type {\n",
       "        vertical-align: middle;\n",
       "    }\n",
       "\n",
       "    .dataframe tbody tr th {\n",
       "        vertical-align: top;\n",
       "    }\n",
       "\n",
       "    .dataframe thead th {\n",
       "        text-align: right;\n",
       "    }\n",
       "</style>\n",
       "<table border=\"1\" class=\"dataframe\">\n",
       "  <thead>\n",
       "    <tr style=\"text-align: right;\">\n",
       "      <th></th>\n",
       "      <th>Symbol</th>\n",
       "      <th>Open</th>\n",
       "      <th>High</th>\n",
       "      <th>Low</th>\n",
       "      <th>Close</th>\n",
       "      <th>Volume</th>\n",
       "    </tr>\n",
       "    <tr>\n",
       "      <th>Date</th>\n",
       "      <th></th>\n",
       "      <th></th>\n",
       "      <th></th>\n",
       "      <th></th>\n",
       "      <th></th>\n",
       "      <th></th>\n",
       "    </tr>\n",
       "  </thead>\n",
       "  <tbody>\n",
       "    <tr>\n",
       "      <th>2020-03-13 20:00:00</th>\n",
       "      <td>ETHUSD</td>\n",
       "      <td>129.94</td>\n",
       "      <td>131.82</td>\n",
       "      <td>126.87</td>\n",
       "      <td>128.71</td>\n",
       "      <td>1940673.93</td>\n",
       "    </tr>\n",
       "  </tbody>\n",
       "</table>\n",
       "</div>"
      ],
      "text/plain": [
       "                     Symbol    Open    High     Low   Close      Volume\n",
       "Date                                                                   \n",
       "2020-03-13 20:00:00  ETHUSD  129.94  131.82  126.87  128.71  1940673.93"
      ]
     },
     "execution_count": 24,
     "metadata": {},
     "output_type": "execute_result"
    }
   ],
   "source": [
    "df.head(1\n",
    "       )"
   ]
  },
  {
   "cell_type": "code",
   "execution_count": null,
   "id": "6f3f2557-29d0-4d70-967d-df4ed643511a",
   "metadata": {},
   "outputs": [],
   "source": []
  }
 ],
 "metadata": {
  "kernelspec": {
   "display_name": "Python 3 (ipykernel)",
   "language": "python",
   "name": "python3"
  },
  "language_info": {
   "codemirror_mode": {
    "name": "ipython",
    "version": 3
   },
   "file_extension": ".py",
   "mimetype": "text/x-python",
   "name": "python",
   "nbconvert_exporter": "python",
   "pygments_lexer": "ipython3",
   "version": "3.13.2"
  }
 },
 "nbformat": 4,
 "nbformat_minor": 5
}
